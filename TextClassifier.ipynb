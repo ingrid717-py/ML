{
 "cells": [
  {
   "cell_type": "code",
   "execution_count": 1,
   "id": "2aabd27f",
   "metadata": {},
   "outputs": [],
   "source": [
    "# From https://github.com/javedsha/text-classification/blob/master/Text+Classification+using+python,+scikit+and+nltk.ipynb\n",
    "# https://towardsdatascience.com/machine-learning-nlp-text-classification-using-scikit-learn-python-and-nltk-c52b92a7c73a\n",
    "\n",
    "#Loading the data set - training data. We will load the test data separately later in the example.\n",
    "# http://qwone.com/~jason/20Newsgroups/ \n",
    "from sklearn.datasets import fetch_20newsgroups\n",
    "twenty_train = fetch_20newsgroups(subset='train', shuffle=True)"
   ]
  },
  {
   "cell_type": "code",
   "execution_count": 2,
   "id": "31094db0",
   "metadata": {},
   "outputs": [
    {
     "data": {
      "text/plain": [
       "['alt.atheism',\n",
       " 'comp.graphics',\n",
       " 'comp.os.ms-windows.misc',\n",
       " 'comp.sys.ibm.pc.hardware',\n",
       " 'comp.sys.mac.hardware',\n",
       " 'comp.windows.x',\n",
       " 'misc.forsale',\n",
       " 'rec.autos',\n",
       " 'rec.motorcycles',\n",
       " 'rec.sport.baseball',\n",
       " 'rec.sport.hockey',\n",
       " 'sci.crypt',\n",
       " 'sci.electronics',\n",
       " 'sci.med',\n",
       " 'sci.space',\n",
       " 'soc.religion.christian',\n",
       " 'talk.politics.guns',\n",
       " 'talk.politics.mideast',\n",
       " 'talk.politics.misc',\n",
       " 'talk.religion.misc']"
      ]
     },
     "execution_count": 2,
     "metadata": {},
     "output_type": "execute_result"
    }
   ],
   "source": [
    "# You can check the target names (categories) and some data files by following commands.\n",
    "twenty_train.target_names #prints all the categories"
   ]
  },
  {
   "cell_type": "code",
   "execution_count": 3,
   "id": "f2153da8",
   "metadata": {},
   "outputs": [
    {
     "name": "stdout",
     "output_type": "stream",
     "text": [
      "From: lerxst@wam.umd.edu (where's my thing)\n",
      "Subject: WHAT car is this!?\n",
      "Nntp-Posting-Host: rac3.wam.umd.edu\n"
     ]
    }
   ],
   "source": [
    "print(\"\\n\".join(twenty_train.data[0].split(\"\\n\")[:3])) #prints first line of the first data file"
   ]
  },
  {
   "cell_type": "code",
   "execution_count": 4,
   "id": "a3545511",
   "metadata": {},
   "outputs": [
    {
     "data": {
      "text/plain": [
       "(11314, 130107)"
      ]
     },
     "execution_count": 4,
     "metadata": {},
     "output_type": "execute_result"
    }
   ],
   "source": [
    "# Extracting features from text files\n",
    "# Text files are series of words (ordered). \n",
    "# In order to run ML algorithms we need to convert the text files into numerical feature vectors. \n",
    "# We will be using bag of words model for our example. \n",
    "# We segment each text file into words (for English splitting by space), and count # of times each word occurs in each document \n",
    "# and finally assign each word an integer id. \n",
    "# Each unique word in our dictionary will correspond to a feature (descriptive feature).\n",
    "\n",
    "# Scikit-learn has a high level component which will create feature vectors for us ‘CountVectorizer’.\n",
    "\n",
    "# https://scikit-learn.org/stable/modules/generated/sklearn.feature_extraction.text.CountVectorizer.html \n",
    "\n",
    "from sklearn.feature_extraction.text import CountVectorizer\n",
    "count_vect = CountVectorizer()\n",
    "X_train_counts = count_vect.fit_transform(twenty_train.data)\n",
    "X_train_counts.shape"
   ]
  },
  {
   "cell_type": "code",
   "execution_count": 5,
   "id": "a5e33562",
   "metadata": {},
   "outputs": [
    {
     "name": "stdout",
     "output_type": "stream",
     "text": [
      "[[0 0 0 ... 0 0 0]]\n"
     ]
    }
   ],
   "source": [
    "print(X_train_counts[1].toarray())"
   ]
  },
  {
   "cell_type": "code",
   "execution_count": 6,
   "id": "b3ea6810",
   "metadata": {},
   "outputs": [],
   "source": [
    "# By doing ‘count_vect.fit_transform(twenty_train.data)’, we are learning the vocabulary dictionary and it returns a \n",
    "# Document-Term matrix. [n_samples, n_features].\n",
    "\n",
    "# TF: Just counting the number of words in each document will give more weight to longer documents than shorter documents. \n",
    "# To avoid this, we can use frequency (TF - Term Frequencies) i.e. #count(word) / #Total words, in each document.\n",
    "\n",
    "# TF-IDF: We can even reduce the weight of more common words like (the, is, an etc.) which occur in all the document. \n",
    "# This is called TF-IDF i.e Term Frequency times inverse document frequency.\n",
    "\n",
    "# The last line will output the dimension of the Document-Term matrix."
   ]
  },
  {
   "cell_type": "code",
   "execution_count": 7,
   "id": "010e4eb9",
   "metadata": {},
   "outputs": [
    {
     "data": {
      "text/plain": [
       "(11314, 130107)"
      ]
     },
     "execution_count": 7,
     "metadata": {},
     "output_type": "execute_result"
    }
   ],
   "source": [
    "# TF-IDF\n",
    "from sklearn.feature_extraction.text import TfidfTransformer\n",
    "tfidf_transformer = TfidfTransformer()\n",
    "X_train_tfidf = tfidf_transformer.fit_transform(X_train_counts)\n",
    "X_train_tfidf.shape"
   ]
  },
  {
   "cell_type": "code",
   "execution_count": 8,
   "id": "ab6c238b",
   "metadata": {},
   "outputs": [],
   "source": [
    "# Running ML algorithms.\n",
    "# Various algorithms can be used for text classification. Here we start with the most simplest one Naive Bayes (NB)"
   ]
  },
  {
   "cell_type": "code",
   "execution_count": 9,
   "id": "668fd4ee",
   "metadata": {},
   "outputs": [],
   "source": [
    "# Training Naive Bayes (NB) classifier on training data.\n",
    "\n",
    "from sklearn.naive_bayes import MultinomialNB\n",
    "clf = MultinomialNB().fit(X_train_tfidf, twenty_train.target)"
   ]
  },
  {
   "cell_type": "code",
   "execution_count": 10,
   "id": "1265192e",
   "metadata": {},
   "outputs": [],
   "source": [
    "# Building a pipeline: We can write less code and do all of the above, by building a pipeline as follows:\n",
    "# The names ‘vect’ , ‘tfidf’ and ‘clf’ are arbitrary but will be used later.\n",
    "# We will be using the 'text_clf' going forward.\n",
    "from sklearn.pipeline import Pipeline\n",
    "\n",
    "text_clf = Pipeline([('vect', CountVectorizer()), ('tfidf', TfidfTransformer()), ('clf', MultinomialNB())])\n",
    "text_clf = text_clf.fit(twenty_train.data, twenty_train.target)"
   ]
  },
  {
   "cell_type": "code",
   "execution_count": 11,
   "id": "8e29c082",
   "metadata": {},
   "outputs": [
    {
     "data": {
      "text/plain": [
       "0.7738980350504514"
      ]
     },
     "execution_count": 11,
     "metadata": {},
     "output_type": "execute_result"
    }
   ],
   "source": [
    "# Performance of NB Classifier. \n",
    "# Now we will test the performance of the NB classifier on test set.\n",
    "\n",
    "import numpy as np\n",
    "twenty_test = fetch_20newsgroups(subset='test', shuffle=True)\n",
    "predicted = text_clf.predict(twenty_test.data)\n",
    "np.mean(predicted == twenty_test.target)\n"
   ]
  },
  {
   "cell_type": "code",
   "execution_count": 12,
   "id": "43dab10d",
   "metadata": {
    "scrolled": false
   },
   "outputs": [
    {
     "name": "stdout",
     "output_type": "stream",
     "text": [
      "From: Greg.Reinacker@FtCollins.NCR.COM\n",
      "Subject: Windows On-Line Review uploaded\n",
      "Reply-To: Greg.Reinacker@FtCollinsCO.NCR.COM\n",
      "Organization: NCR Microelectronics, Ft. Collins, CO\n",
      "Lines: 12\n",
      "\n",
      "I have uploaded the Windows On-Line Review shareware edition to\n",
      "ftp.cica.indiana.edu as /pub/pc/win3/uploads/wolrs7.zip.\n",
      "\n",
      "It is an on-line magazine which contains reviews of some shareware\n",
      "products...I grabbed it from the Windows On-Line BBS.\n",
      "\n",
      "--\n",
      "--------------------------------------------------------------------------\n",
      "Greg Reinacker                          (303) 223-5100 x9289\n",
      "NCR Microelectronic Products Division   VoicePlus 464-9289\n",
      "2001 Danfield Court                     Greg.Reinacker@FtCollinsCO.NCR.COM\n",
      "Fort Collins, CO  80525\n",
      "\n",
      "2\n",
      "rec.sport.hockey\n",
      "2\n"
     ]
    }
   ],
   "source": [
    "print(twenty_test.data[10])\n",
    "print(twenty_test.target[10])\n",
    "print(twenty_test.target_names[10])\n",
    "print(predicted[10])"
   ]
  },
  {
   "cell_type": "code",
   "execution_count": 13,
   "id": "10c0e02e",
   "metadata": {},
   "outputs": [
    {
     "name": "stderr",
     "output_type": "stream",
     "text": [
      "C:\\Anaconda3\\lib\\site-packages\\sklearn\\linear_model\\_stochastic_gradient.py:696: ConvergenceWarning: Maximum number of iteration reached before convergence. Consider increasing max_iter to improve the fit.\n",
      "  warnings.warn(\n"
     ]
    },
    {
     "data": {
      "text/plain": [
       "0.8248805098247477"
      ]
     },
     "execution_count": 13,
     "metadata": {},
     "output_type": "execute_result"
    }
   ],
   "source": [
    "# Training Support Vector Machines - SVM and calculating its performance\n",
    "# https://scikit-learn.org/stable/modules/svm.html\n",
    "\n",
    "from sklearn.linear_model import SGDClassifier\n",
    "text_clf_svm = Pipeline([('vect', CountVectorizer()), ('tfidf', TfidfTransformer()),\n",
    "                         ('clf-svm', SGDClassifier(loss='hinge', penalty='l2',alpha=1e-3, max_iter=5, random_state=42))])\n",
    "\n",
    "text_clf_svm = text_clf_svm.fit(twenty_train.data, twenty_train.target)\n",
    "predicted_svm = text_clf_svm.predict(twenty_test.data)\n",
    "np.mean(predicted_svm == twenty_test.target)"
   ]
  },
  {
   "cell_type": "code",
   "execution_count": 14,
   "id": "9ea872ba",
   "metadata": {},
   "outputs": [
    {
     "name": "stdout",
     "output_type": "stream",
     "text": [
      "    7 - alt.atheism - 7\n",
      "    5 - comp.graphics - 1\n",
      "    0 - comp.os.ms-windows.misc - 0\n",
      "   17 - comp.sys.ibm.pc.hardware - 17\n",
      "   19 - comp.sys.mac.hardware - 0\n",
      "   13 - comp.windows.x - 13\n",
      "   15 - misc.forsale - 15\n",
      "   15 - rec.autos - 2\n",
      "    5 - rec.motorcycles - 5\n",
      "    1 - rec.sport.baseball - 1\n",
      "    2 - rec.sport.hockey - 2\n",
      "    5 - sci.crypt - 1\n",
      "   17 - sci.electronics - 17\n",
      "    8 - sci.med - 8\n",
      "    0 - sci.space - 15\n",
      "    2 - soc.religion.christian - 3\n",
      "    4 - talk.politics.guns - 2\n",
      "    1 - talk.politics.mideast - 1\n",
      "    6 - talk.politics.misc - 6\n",
      "   16 - talk.religion.misc - 16\n"
     ]
    }
   ],
   "source": [
    "for i in range (20):\n",
    "    print(f\"{twenty_test.target[i]:5} - {twenty_test.target_names[i]} - {predicted_svm[i]}\")"
   ]
  },
  {
   "cell_type": "code",
   "execution_count": 15,
   "id": "493858c7",
   "metadata": {},
   "outputs": [],
   "source": [
    "# Grid Search\n",
    "# Here, we are creating a list of parameters for which we would like to do performance tuning. \n",
    "# All the parameters name start with the classifier name (remember the arbitrary name we gave). \n",
    "# E.g. vect__ngram_range; here we are telling to use unigram and bigrams and choose the one which is optimal.\n",
    "\n",
    "from sklearn.model_selection import GridSearchCV\n",
    "parameters = {'vect__ngram_range': [(1, 1), (1, 2)], 'tfidf__use_idf': (True, False), 'clf__alpha': (1e-2, 1e-3)}"
   ]
  },
  {
   "cell_type": "code",
   "execution_count": 16,
   "id": "2ccc0c7d",
   "metadata": {},
   "outputs": [],
   "source": [
    "# Next, we create an instance of the grid search by passing the classifier, parameters \n",
    "# and n_jobs=-1 which tells to use multiple cores from user machine.\n",
    "\n",
    "gs_clf = GridSearchCV(text_clf, parameters, n_jobs=-1)\n",
    "gs_clf = gs_clf.fit(twenty_train.data, twenty_train.target)"
   ]
  },
  {
   "cell_type": "code",
   "execution_count": 17,
   "id": "2b619685",
   "metadata": {},
   "outputs": [
    {
     "data": {
      "text/plain": [
       "{'clf__alpha': 0.001, 'tfidf__use_idf': True, 'vect__ngram_range': (1, 2)}"
      ]
     },
     "execution_count": 17,
     "metadata": {},
     "output_type": "execute_result"
    }
   ],
   "source": [
    "# To see the best mean score and the params, run the following code\n",
    "\n",
    "gs_clf.best_score_\n",
    "gs_clf.best_params_\n",
    "\n",
    "# Output for above should be: The accuracy has now increased to ~90.6% for the NB classifier\n",
    "# and the corresponding parameters are {‘clf__alpha’: 0.01, ‘tfidf__use_idf’: True, ‘vect__ngram_range’: (1, 2)}."
   ]
  },
  {
   "cell_type": "code",
   "execution_count": 18,
   "id": "fa18f0bc",
   "metadata": {},
   "outputs": [
    {
     "name": "stderr",
     "output_type": "stream",
     "text": [
      "C:\\Anaconda3\\lib\\site-packages\\sklearn\\linear_model\\_stochastic_gradient.py:696: ConvergenceWarning: Maximum number of iteration reached before convergence. Consider increasing max_iter to improve the fit.\n",
      "  warnings.warn(\n"
     ]
    },
    {
     "data": {
      "text/plain": [
       "{'clf-svm__alpha': 0.001, 'tfidf__use_idf': True, 'vect__ngram_range': (1, 2)}"
      ]
     },
     "execution_count": 18,
     "metadata": {},
     "output_type": "execute_result"
    }
   ],
   "source": [
    "# Similarly doing grid search for SVM\n",
    "from sklearn.model_selection import GridSearchCV\n",
    "parameters_svm = {'vect__ngram_range': [(1, 1), (1, 2)], 'tfidf__use_idf': (True, False),'clf-svm__alpha': (1e-2, 1e-3)}\n",
    "\n",
    "gs_clf_svm = GridSearchCV(text_clf_svm, parameters_svm, n_jobs=-1)\n",
    "gs_clf_svm = gs_clf_svm.fit(twenty_train.data, twenty_train.target)\n",
    "\n",
    "\n",
    "gs_clf_svm.best_score_\n",
    "gs_clf_svm.best_params_"
   ]
  },
  {
   "cell_type": "code",
   "execution_count": 19,
   "id": "8d512a46",
   "metadata": {},
   "outputs": [],
   "source": [
    "# NLTK\n",
    "# 1. Removing stop words: (the, then etc) from the data. We should do this only when stop words are not useful for \n",
    "#    the underlying problem. In most of the text classification problems, this is indeed not useful. \n",
    "#    Let’s see if removing stop words increases the accuracy. Update the code for creating an object of \n",
    "#    CountVectorizer as follows:\n",
    "\n",
    "from sklearn.pipeline import Pipeline\n",
    "text_clf = Pipeline([('vect', CountVectorizer(stop_words='english')), ('tfidf', TfidfTransformer()), \n",
    "                     ('clf', MultinomialNB())])"
   ]
  },
  {
   "cell_type": "code",
   "execution_count": 20,
   "id": "618f36fa",
   "metadata": {},
   "outputs": [],
   "source": [
    "# This pipeline was built for a NB classifier. This improves the accuracy from 77.38% to 81.69% (that is too good). \n",
    "# You can try the same for SVM and also while doing grid search.\n",
    "\n",
    "# 2. FitPrior=False: When set it to false for MultinomialNB, a uniform prior will be used. \n",
    "#    This increases the accuracy from 81.69% to 82.14% (not much gain). Try and see if this works for your data set.\n",
    "# 3. Stemming: Stemming is the process of reducing inflected (or sometimes derived) words to their word stem, base or root form. E.g. A stemming algorithm reduces the words “fishing”, “fished”, and “fisher” to the root word, “fish”.\n",
    "#    We use NLTK for this. NLTK comes with various stemmers which can help reducing the words to their root form. \n",
    "\n",
    "# Below we use Snowball stemmer which works very well for English language."
   ]
  },
  {
   "cell_type": "code",
   "execution_count": 21,
   "id": "ee0d7fea",
   "metadata": {},
   "outputs": [
    {
     "name": "stdout",
     "output_type": "stream",
     "text": [
      "showing info https://raw.githubusercontent.com/nltk/nltk_data/gh-pages/index.xml\n"
     ]
    },
    {
     "data": {
      "text/plain": [
       "0.8167817312798725"
      ]
     },
     "execution_count": 21,
     "metadata": {},
     "output_type": "execute_result"
    }
   ],
   "source": [
    "# Stemming Code\n",
    "\n",
    "import nltk\n",
    "nltk.download()\n",
    "\n",
    "from nltk.stem.snowball import SnowballStemmer\n",
    "stemmer = SnowballStemmer(\"english\", ignore_stopwords=True)\n",
    "\n",
    "class StemmedCountVectorizer(CountVectorizer):\n",
    "    def build_analyzer(self):\n",
    "        analyzer = super(StemmedCountVectorizer, self).build_analyzer()\n",
    "        return lambda doc: ([stemmer.stem(w) for w in analyzer(doc)])\n",
    "    \n",
    "stemmed_count_vect = StemmedCountVectorizer(stop_words='english')\n",
    "\n",
    "text_mnb_stemmed = Pipeline([('vect', stemmed_count_vect), ('tfidf', TfidfTransformer()), \n",
    "                             ('mnb', MultinomialNB(fit_prior=False))])\n",
    "\n",
    "text_mnb_stemmed = text_mnb_stemmed.fit(twenty_train.data, twenty_train.target)\n",
    "\n",
    "predicted_mnb_stemmed = text_mnb_stemmed.predict(twenty_test.data)\n",
    "\n",
    "np.mean(predicted_mnb_stemmed == twenty_test.target)\n"
   ]
  },
  {
   "cell_type": "code",
   "execution_count": 22,
   "id": "534e838b",
   "metadata": {},
   "outputs": [
    {
     "name": "stdout",
     "output_type": "stream",
     "text": [
      "StemmedCountVectorizer(stop_words='english')\n"
     ]
    }
   ],
   "source": [
    "print(stemmed_count_vect)"
   ]
  },
  {
   "cell_type": "code",
   "execution_count": 23,
   "id": "b77af0b3",
   "metadata": {},
   "outputs": [
    {
     "name": "stdout",
     "output_type": "stream",
     "text": [
      "[ 7  1  0 ...  9  3 15]\n"
     ]
    }
   ],
   "source": [
    "print(predicted_mnb_stemmed)"
   ]
  },
  {
   "cell_type": "code",
   "execution_count": 24,
   "id": "b8a10600",
   "metadata": {},
   "outputs": [],
   "source": [
    "# The accuracy with stemming we get is ~81.67%. Marginal improvement in our case with NB classifier. \n",
    "# You can also try out with SVM and other algorithms.\n",
    "\n",
    "# Conclusion: \n",
    "# We have learned the classic problem in NLP, text classification. We learned about important concepts like bag of words,\n",
    "# TF-IDF and 2 important algorithms NB and SVM. We saw that for our data set, both the algorithms were almost equally matched\n",
    "# when optimized. Sometimes, if we have enough data set, choice of algorithm can make hardly any difference. \n",
    "# We also saw, how to perform grid search for performance tuning and used NLTK stemming approach. \n",
    "# You can use this code on your data set and see which algorithms works best for you."
   ]
  },
  {
   "cell_type": "code",
   "execution_count": 25,
   "id": "e0c22a2f",
   "metadata": {},
   "outputs": [
    {
     "name": "stdout",
     "output_type": "stream",
     "text": [
      "    7 - alt.atheism - 7\n",
      "    5 - comp.graphics - 1\n",
      "    0 - comp.os.ms-windows.misc - 0\n",
      "   17 - comp.sys.ibm.pc.hardware - 17\n",
      "   19 - comp.sys.mac.hardware - 0\n",
      "   13 - comp.windows.x - 13\n",
      "   15 - misc.forsale - 15\n",
      "   15 - rec.autos - 2\n",
      "    5 - rec.motorcycles - 5\n",
      "    1 - rec.sport.baseball - 1\n",
      "    2 - rec.sport.hockey - 2\n",
      "    5 - sci.crypt - 5\n",
      "   17 - sci.electronics - 17\n",
      "    8 - sci.med - 8\n",
      "    0 - sci.space - 15\n",
      "    2 - soc.religion.christian - 3\n",
      "    4 - talk.politics.guns - 2\n",
      "    1 - talk.politics.mideast - 1\n",
      "    6 - talk.politics.misc - 6\n",
      "   16 - talk.religion.misc - 16\n"
     ]
    }
   ],
   "source": [
    "for i in range (20):\n",
    "    print(f\"{twenty_test.target[i]:5} - {twenty_test.target_names[i]} - {predicted_mnb_stemmed[i]}\")\n",
    "# print(twenty_test.data[10])   "
   ]
  },
  {
   "cell_type": "code",
   "execution_count": 27,
   "id": "32542b42",
   "metadata": {},
   "outputs": [
    {
     "data": {
      "text/plain": [
       "<AxesSubplot:title={'center':'Confusion Matrix'}, xlabel='Predicted label', ylabel='True label'>"
      ]
     },
     "execution_count": 27,
     "metadata": {},
     "output_type": "execute_result"
    },
    {
     "data": {
      "image/png": "[encoded data removed]",
      "text/plain": [
       "<Figure size 640x480 with 2 Axes>"
      ]
     },
     "metadata": {},
     "output_type": "display_data"
    }
   ],
   "source": [
    "import scikitplot as skplt\n",
    "skplt.metrics.plot_confusion_matrix(twenty_test.target, predicted_mnb_stemmed, normalize=False, title = 'Confusion Matrix')"
   ]
  },
  {
   "cell_type": "code",
   "execution_count": null,
   "id": "efdc732d",
   "metadata": {},
   "outputs": [],
   "source": [
    "# https://github.com/AleksandarHaber/Introduction-to-Scikit-learn-Classification-and-Visualization/blob/main/visualizeFunctions.py\n",
    "# https://secml.readthedocs.io/en/stable/tutorials/01-Training.html\n",
    "# https://towardsdatascience.com/visualize-machine-learning-metrics-like-a-pro-b0d5d7815065"
   ]
  },
  {
   "cell_type": "code",
   "execution_count": null,
   "id": "75e6137c",
   "metadata": {},
   "outputs": [],
   "source": []
  }
 ],
 "metadata": {
  "kernelspec": {
   "display_name": "Python 3 (ipykernel)",
   "language": "python",
   "name": "python3"
  },
  "language_info": {
   "codemirror_mode": {
    "name": "ipython",
    "version": 3
   },
   "file_extension": ".py",
   "mimetype": "text/x-python",
   "name": "python",
   "nbconvert_exporter": "python",
   "pygments_lexer": "ipython3",
   "version": "3.9.13"
  }
 },
 "nbformat": 4,
 "nbformat_minor": 5
}
